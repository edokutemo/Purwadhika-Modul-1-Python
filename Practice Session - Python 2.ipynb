{
 "cells": [
  {
   "cell_type": "code",
   "execution_count": 27,
   "id": "c5057cb3",
   "metadata": {},
   "outputs": [
    {
     "name": "stdout",
     "output_type": "stream",
     "text": [
      "[13000, 18000, 23000, 28000, 33000]\n"
     ]
    }
   ],
   "source": [
    "# Latihan 1\n",
    "\n",
    "# tarif taxi per kilometer adalah 5000\n",
    "# awal buka pintu sudah dikenakan tarif 8000\n",
    "# berapa tarif taxi untuk perjalanan sejauh [1,2,3,4,5] kilometer\n",
    "\n",
    "# tips: gunakan lambda fuction dan map\n",
    "\n",
    "kilometer = [1,2,3,4,5]\n",
    "tarif_kilometer = 5000\n",
    "tarif_awal = 8000\n",
    "tarif_total = []\n",
    "\n",
    "for i in kilometer:\n",
    "    tarif_total.append(tarif_awal + (i*tarif_kilometer))\n",
    "    \n",
    "print(tarif_total)\n",
    "\n"
   ]
  },
  {
   "cell_type": "code",
   "execution_count": 25,
   "id": "0143f4f3",
   "metadata": {},
   "outputs": [],
   "source": [
    "# Latihan 2\n",
    "\n",
    "# buat function dengan parameter berupa sebuah kalimat, contoh\n",
    "# argumen: teh cukup murah\n",
    "# output: teh pukuc harum\n",
    "\n",
    "# syarat: \n",
    "# hanya kata yg memiliki panjang lebih dari 3 huruf yang dibalik\n",
    "# input hanya berupa huruf dan spasi, tanpa tanda baca\n",
    "\n",
    "# sugestion: pakai looping string dan list\n",
    "# pakai conditional if\n"
   ]
  },
  {
   "cell_type": "code",
   "execution_count": 30,
   "id": "f23be683",
   "metadata": {},
   "outputs": [
    {
     "name": "stdout",
     "output_type": "stream",
     "text": [
      "[[7, 4, 1], [8, 5, 2], [9, 6, 3]]\n"
     ]
    }
   ],
   "source": [
    "# Latihan 3\n",
    "\n",
    "# Buat algoritma untuk memutar list di dalam list yang berukuran 3x3 satu kali searah jarum jam.\n",
    "# misal:\n",
    "# input\n",
    "# [[1,2,3],   \n",
    "# [4,5,6],\n",
    "# [7,8,9]]\n",
    "\n",
    "# output\n",
    "# [[7,4,1],  \n",
    "# [8,5,2],   \n",
    "# [9,6,3]]   \n",
    "\n",
    "# pakai indexing dan for loop\n",
    "\n",
    "listA = [[1,2,3], [4,5,6], [7,8,9]]\n",
    "\n",
    "rotated = []\n",
    "\n",
    "for col in zip(*listA):\n",
    "    rotated.append(list(reversed(col)))\n",
    "    \n",
    "print(rotated)\n",
    "\n"
   ]
  },
  {
   "cell_type": "code",
   "execution_count": 31,
   "id": "f05d4997",
   "metadata": {},
   "outputs": [
    {
     "name": "stdout",
     "output_type": "stream",
     "text": [
      "[(1, 4, 7), (2, 5, 8), (3, 6, 9)]\n"
     ]
    }
   ],
   "source": [
    "print(list(zip(*listA)))"
   ]
  },
  {
   "cell_type": "code",
   "execution_count": null,
   "id": "eab5bc45",
   "metadata": {},
   "outputs": [],
   "source": []
  }
 ],
 "metadata": {
  "kernelspec": {
   "display_name": "Python 3",
   "language": "python",
   "name": "python3"
  },
  "language_info": {
   "codemirror_mode": {
    "name": "ipython",
    "version": 3
   },
   "file_extension": ".py",
   "mimetype": "text/x-python",
   "name": "python",
   "nbconvert_exporter": "python",
   "pygments_lexer": "ipython3",
   "version": "3.8.8"
  }
 },
 "nbformat": 4,
 "nbformat_minor": 5
}
