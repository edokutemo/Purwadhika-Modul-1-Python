{
 "cells": [
  {
   "cell_type": "code",
   "execution_count": 2,
   "id": "4a5e917e",
   "metadata": {},
   "outputs": [
    {
     "name": "stdout",
     "output_type": "stream",
     "text": [
      "Sampai Jumpa Timo\n"
     ]
    }
   ],
   "source": [
    "a = 'Selamat datang'\n",
    "\n",
    "def katakan(nama):\n",
    "    a = 'Sampai Jumpa'\n",
    "    print(f'{a} {nama}')\n",
    "\n",
    "katakan('Timo')"
   ]
  },
  {
   "cell_type": "code",
   "execution_count": 9,
   "id": "2654d262",
   "metadata": {},
   "outputs": [
    {
     "name": "stdout",
     "output_type": "stream",
     "text": [
      "Apple\n"
     ]
    }
   ],
   "source": [
    "a, b ,c = ['Banana', 'Mango', 'Apple']\n",
    "\n",
    "def choose(fruit):\n",
    "    print(c)\n",
    "\n",
    "choose('Grape')"
   ]
  },
  {
   "cell_type": "code",
   "execution_count": 10,
   "id": "1314109c",
   "metadata": {},
   "outputs": [
    {
     "data": {
      "text/plain": [
       "12"
      ]
     },
     "execution_count": 10,
     "metadata": {},
     "output_type": "execute_result"
    }
   ],
   "source": [
    "def tambah(angka):\n",
    "    total = 0\n",
    "    for i in angka:\n",
    "        if i % 2 == 0:\n",
    "            total += i\n",
    "    return total\n",
    "\n",
    "tambah([8,3,4,7])"
   ]
  },
  {
   "cell_type": "code",
   "execution_count": 3,
   "id": "c6f4f05e",
   "metadata": {},
   "outputs": [
    {
     "name": "stdout",
     "output_type": "stream",
     "text": [
      "ini adalah variable dalam fungsi: 77\n",
      "ini adalah variabel di luar fungsi: 5\n"
     ]
    }
   ],
   "source": [
    "a = 77\n",
    "\n",
    "def myFunction():\n",
    "    global x\n",
    "    x = 5\n",
    "    print(f'ini adalah variable dalam fungsi:', a)\n",
    "\n",
    "x = 100\n",
    "\n",
    "myFunction()\n",
    "\n",
    "print(f'ini adalah variabel di luar fungsi:', x)"
   ]
  },
  {
   "cell_type": "code",
   "execution_count": 4,
   "id": "b27de3e5",
   "metadata": {},
   "outputs": [
    {
     "name": "stdout",
     "output_type": "stream",
     "text": [
      "This movie title is MADAGASCAR. It's produced in 2010. It's categorized as Animation movie.\n"
     ]
    }
   ],
   "source": [
    "def description(a,b,c):\n",
    "    if c == True:\n",
    "        c = 'Animation'\n",
    "    else:\n",
    "        c = 'Live'\n",
    "    print(f'This movie title is {a.upper()}. It\\'s produced in {b-10}. It\\'s categorized as {c} movie.')\n",
    "\n",
    "description('madagascar', 2020, True)"
   ]
  },
  {
   "cell_type": "code",
   "execution_count": 11,
   "id": "d52c7603",
   "metadata": {},
   "outputs": [
    {
     "name": "stdout",
     "output_type": "stream",
     "text": [
      "[1, 8, 27, 64]\n"
     ]
    }
   ],
   "source": [
    "import math\n",
    "\n",
    "listAngka = [1,2,3,4]\n",
    "\n",
    "mapPangkatTiga = map(lambda a: pow(a,3), listAngka)\n",
    "\n",
    "print(list(mapPangkatTiga))\n",
    "\n"
   ]
  },
  {
   "cell_type": "code",
   "execution_count": 6,
   "id": "5fc5622a",
   "metadata": {},
   "outputs": [
    {
     "name": "stdout",
     "output_type": "stream",
     "text": [
      "[9, 12]\n"
     ]
    }
   ],
   "source": [
    "listBilangan = [7,8,9,10,11,12]\n",
    "\n",
    "print(list(filter(lambda x : x % 3 == 0, listBilangan)))"
   ]
  },
  {
   "cell_type": "code",
   "execution_count": null,
   "id": "365f3543",
   "metadata": {},
   "outputs": [],
   "source": []
  }
 ],
 "metadata": {
  "kernelspec": {
   "display_name": "Python 3",
   "language": "python",
   "name": "python3"
  },
  "language_info": {
   "codemirror_mode": {
    "name": "ipython",
    "version": 3
   },
   "file_extension": ".py",
   "mimetype": "text/x-python",
   "name": "python",
   "nbconvert_exporter": "python",
   "pygments_lexer": "ipython3",
   "version": "3.8.8"
  }
 },
 "nbformat": 4,
 "nbformat_minor": 5
}
